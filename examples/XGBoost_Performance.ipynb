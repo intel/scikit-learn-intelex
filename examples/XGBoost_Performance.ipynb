{
 "cells": [
  {
   "cell_type": "markdown",
   "id": "occupied-jimmy",
   "metadata": {},
   "source": [
    "# XGBoost Performance Comparison "
   ]
  },
  {
   "cell_type": "markdown",
   "id": "subject-glenn",
   "metadata": {},
   "source": [
    "In this example we will train a XGBoost model and predict the results to show off Intel's optimizations for XGBoost used for increased performance. Intel optimized XGBoost is shipped as a part of the Intel® oneAPI AI Analytics Toolkit.\n",
    "\n",
    "This example is a Jupyter Notebook version of a XGBoost example seen in this Medium blog using the popular Higgs dataset: \n",
    "https://medium.com/intel-analytics-software/new-optimizations-for-cpu-in-xgboost-1-1-81144ea21115"
   ]
  },
  {
   "cell_type": "markdown",
   "id": "beautiful-national",
   "metadata": {},
   "source": [
    "In this example, we will use a dataset with particle features and functions of those features **to distinguish between a signal process which produces Higgs bosons (1) and a background process which does not (0)**. The Higgs boson is a basic particle in the standard model produced by the quantum excitation of the Higgs field, named after physicist Peter Higgs."
   ]
  },
  {
   "cell_type": "markdown",
   "id": "authentic-logging",
   "metadata": {},
   "source": [
    "## Example Environment Creation"
   ]
  },
  {
   "cell_type": "markdown",
   "id": "forbidden-tobago",
   "metadata": {},
   "source": [
    "This example is executed in two Anaconda environments. \n",
    "\n",
    "The first environment is the latest [Intel® oneAPI AI Analytics Toolkit](https://software.intel.com/content/www/us/en/develop/tools/oneapi/ai-analytics-toolkit.html) intel-aikit-modin environment, which includes data analytics and machine learning workflows such as Intel® Distribution of Modin (for accelerated data frames, not used in this example) and Intel optimizations for XGboost. See [here](https://software.intel.com/content/www/us/en/develop/articles/installing-ai-kit-with-conda.html) for more installation information."
   ]
  },
  {
   "cell_type": "markdown",
   "id": "brave-plastic",
   "metadata": {},
   "source": [
    "The second environment is a clone of the first environment using commands:"
   ]
  },
  {
   "cell_type": "markdown",
   "id": "weekly-globe",
   "metadata": {},
   "source": [
    "`conda clone --name xgb0.81 --clone aikit-modin-env-name`"
   ]
  },
  {
   "cell_type": "markdown",
   "id": "varying-semester",
   "metadata": {},
   "source": [
    "`conda activate xgb0.81`"
   ]
  },
  {
   "cell_type": "markdown",
   "id": "interim-convenience",
   "metadata": {},
   "source": [
    "`conda remove xgboost`"
   ]
  },
  {
   "cell_type": "markdown",
   "id": "embedded-sigma",
   "metadata": {},
   "source": [
    "`pip install xgboost==0.81`"
   ]
  },
  {
   "cell_type": "markdown",
   "id": "developmental-drove",
   "metadata": {},
   "source": [
    "Run this performance demo in both environments, saving the visualization cell until after both runs as instructed later in this demo."
   ]
  },
  {
   "cell_type": "markdown",
   "id": "cubic-batch",
   "metadata": {},
   "source": [
    "## Importing and Organizing Data"
   ]
  },
  {
   "cell_type": "markdown",
   "id": "lovely-channels",
   "metadata": {},
   "source": [
    "Let's start by **importing** all necessary data and packages.\n"
   ]
  },
  {
   "cell_type": "code",
   "execution_count": 1,
   "id": "express-superintendent",
   "metadata": {},
   "outputs": [],
   "source": [
    "import numpy as np\n",
    "import os\n",
    "import matplotlib.pyplot as plt\n",
    "import requests\n",
    "import pandas as pd\n",
    "import sys\n",
    "import xgboost as xgb\n",
    "import time"
   ]
  },
  {
   "cell_type": "markdown",
   "id": "wound-lobby",
   "metadata": {},
   "source": [
    "Now let's **load** in the Higgs dataset and **organize** it as necessary to work with our model. "
   ]
  },
  {
   "cell_type": "code",
   "execution_count": 2,
   "id": "palestinian-program",
   "metadata": {},
   "outputs": [],
   "source": [
    "def load_higgs(nrows_train, nrows_test, dtype=np.float32):\n",
    "    if not os.path.isfile(\"./data/batch/HIGGS.csv.gz\"):\n",
    "        print(\"Loading data set...\")\n",
    "        url = \"https://archive.ics.uci.edu/ml/machine-learning-databases/00280/HIGGS.csv.gz\"\n",
    "        myfile = requests.get(url)\n",
    "        open('./data/batch/HIGGS.csv.gz', 'wb').write(myfile.content)\n",
    "    print(\"Reading data set...\")\n",
    "    data = pd.read_csv(\"./data/batch/HIGGS.csv.gz\", delimiter=\",\", header=None, compression=\"gzip\", dtype=dtype, nrows=nrows_train+nrows_test)\n",
    "    print(\"Pre-processing data set...\")\n",
    "    data = data[list(data.columns[1:])+list(data.columns[0:1])]\n",
    "    n_features = data.shape[1]-1\n",
    "    train_data = np.ascontiguousarray(data.values[:nrows_train,:n_features])\n",
    "    train_label = np.ascontiguousarray(data.values[:nrows_train,n_features])\n",
    "    test_data = np.ascontiguousarray(data.values[nrows_train:nrows_train+nrows_test,:n_features])\n",
    "    test_label = np.ascontiguousarray(data.values[nrows_train:nrows_train+nrows_test,n_features])\n",
    "    n_classes = len(np.unique(train_label))\n",
    "    print(sys.getsizeof(train_data))\n",
    "    return train_data, train_label, test_data, test_label, n_classes, n_features "
   ]
  },
  {
   "cell_type": "markdown",
   "id": "developed-radiation",
   "metadata": {},
   "source": [
    "We will run this model and prediction using 1,000,000 rows of the Higgs dataset."
   ]
  },
  {
   "cell_type": "code",
   "execution_count": 3,
   "id": "secure-writer",
   "metadata": {},
   "outputs": [
    {
     "name": "stdout",
     "output_type": "stream",
     "text": [
      "Reading data set...\n",
      "Pre-processing data set...\n",
      "112000112\n"
     ]
    }
   ],
   "source": [
    "train_data, train_label, test_data, test_label, n_classes, n_features = load_higgs(1000000, 1000000)"
   ]
  },
  {
   "cell_type": "markdown",
   "id": "significant-ecology",
   "metadata": {},
   "source": [
    "## Training the Model"
   ]
  },
  {
   "cell_type": "markdown",
   "id": "aging-control",
   "metadata": {},
   "source": [
    "**Fitting and training the model** using the training dataset, which consists of particle features and functions of those features to help discern between a signal process that produces Higgs bosons and background process."
   ]
  },
  {
   "cell_type": "code",
   "execution_count": 4,
   "id": "contained-firmware",
   "metadata": {},
   "outputs": [
    {
     "name": "stdout",
     "output_type": "stream",
     "text": [
      "[09:23:45] Tree method is selected to be 'hist', which uses a single updater grow_fast_histmaker.\n"
     ]
    },
    {
     "data": {
      "text/plain": [
       "XGBClassifier(alpha=0.9, base_score=0.5, booster='gbtree', colsample_bylevel=1,\n",
       "              colsample_bytree=1, gamma=0, learning_rate=0.1, max_bin=256,\n",
       "              max_delta_step=0, max_depth=8, max_leaves=256, min_child_weight=0,\n",
       "              missing=None, n_estimators=1000, n_jobs=1, nthread=None,\n",
       "              objective='binary:logistic', predictor='cpu_predictor',\n",
       "              random_state=0, reg_alpha=0, reg_lambda=1, scale_pos_weight=2,\n",
       "              seed=None, silent=True, subsample=1, tree_method='hist',\n",
       "              verbosity=0)"
      ]
     },
     "execution_count": 4,
     "metadata": {},
     "output_type": "execute_result"
    }
   ],
   "source": [
    "# Set XGBoost parameters\n",
    "xgb_params = {\n",
    "    'verbosity':                    0,\n",
    "    'alpha':                        0.9,\n",
    "    'max_bin':                      256,\n",
    "    'scale_pos_weight':             2,\n",
    "    'learning_rate':                0.1,\n",
    "    'subsample':                    1,\n",
    "    'reg_lambda':                   1,\n",
    "    \"min_child_weight\":             0,\n",
    "    'max_depth':                    8,\n",
    "    'max_leaves':                   2**8,\n",
    "    'objective':                    'binary:logistic',\n",
    "    'predictor':                    'cpu_predictor',\n",
    "    'tree_method':                  'hist',\n",
    "    'n_estimators':                1000\n",
    "}\n",
    "\n",
    "# Train the model\n",
    "t0 = time.time() #begin timer\n",
    "model_xgb= xgb.XGBClassifier(**xgb_params)\n",
    "model_xgb.fit(train_data, train_label)"
   ]
  },
  {
   "cell_type": "markdown",
   "id": "honest-murder",
   "metadata": {},
   "source": [
    "## Making A Prediction"
   ]
  },
  {
   "cell_type": "markdown",
   "id": "intended-undergraduate",
   "metadata": {},
   "source": [
    "Now let's **make a prediction,** using Intel optimized XGBoost*, for increased performance. whether the particles in the dataset have a signal process which produces Higgs bosons or a background process which does not produce them."
   ]
  },
  {
   "cell_type": "code",
   "execution_count": 5,
   "id": "starting-special",
   "metadata": {},
   "outputs": [],
   "source": [
    "#predict label using test data\n",
    "result_predict_xgb_test = model_xgb.predict(test_data)\n",
    "t1 = time.time() #end timer"
   ]
  },
  {
   "cell_type": "markdown",
   "id": "further-attribute",
   "metadata": {},
   "source": [
    "## Accuracy"
   ]
  },
  {
   "cell_type": "markdown",
   "id": "separate-grocery",
   "metadata": {},
   "source": [
    "Now let's **check the accuracy** of our model by comparing our prediction to the correct classification of the particles."
   ]
  },
  {
   "cell_type": "code",
   "execution_count": 6,
   "id": "wooden-samoa",
   "metadata": {},
   "outputs": [
    {
     "name": "stdout",
     "output_type": "stream",
     "text": [
      "0.733971\n"
     ]
    }
   ],
   "source": [
    "# Check model accuracy\n",
    "acc = np.mean(test_label == result_predict_xgb_test)\n",
    "print(acc)"
   ]
  },
  {
   "cell_type": "markdown",
   "id": "confident-gothic",
   "metadata": {},
   "source": [
    "## Training + Prediction Time"
   ]
  },
  {
   "cell_type": "code",
   "execution_count": 7,
   "id": "eleven-symposium",
   "metadata": {},
   "outputs": [],
   "source": [
    "xgb_total = t1-t0"
   ]
  },
  {
   "cell_type": "markdown",
   "id": "lonely-stuart",
   "metadata": {},
   "source": [
    "### Visualization"
   ]
  },
  {
   "cell_type": "markdown",
   "id": "closed-anniversary",
   "metadata": {},
   "source": [
    "**Directions:** \n",
    "\n",
    "If ./perf_numbers.csv is already created from a previous comparison of the two environment runs (aikit-base and XGBoost 0.81), remove it.\n",
    "\n",
    "Run the following cell in both environments to generate the dataframe that will be used for visualization (run demo in one environment, then switch to the other environment and run it again.)."
   ]
  },
  {
   "cell_type": "code",
   "execution_count": 8,
   "id": "familiar-haven",
   "metadata": {},
   "outputs": [],
   "source": [
    "filename = \"./perf_numbers.csv\"\n",
    "\n",
    "xgb_ver= xgb.__version__\n",
    "\n",
    "if not os.path.isfile(filename):\n",
    "    df = pd.DataFrame([[xgb_ver,xgb_total]], columns = [\"XGBoost Version\",  \"Time in Sec\"])\n",
    "    df.to_csv(filename, index=False) \n",
    "else:\n",
    "    df = pd.DataFrame(pd.read_csv(filename))\n",
    "    df2 = pd.DataFrame([[xgb_ver,xgb_total]], columns = [\"XGBoost Version\",  \"Time in Sec\"])\n",
    "    df = df.append(df2, ignore_index=True)"
   ]
  },
  {
   "cell_type": "markdown",
   "id": "southwest-facing",
   "metadata": {},
   "source": [
    "**Only run the following cells after running the demo in both environments.** This will generate the performance visualization."
   ]
  },
  {
   "cell_type": "code",
   "execution_count": 9,
   "id": "geographic-drama",
   "metadata": {},
   "outputs": [
    {
     "data": {
      "image/png": "[encoded data removed]",
      "text/plain": [
       "<Figure size 432x288 with 1 Axes>"
      ]
     },
     "metadata": {
      "needs_background": "light"
     },
     "output_type": "display_data"
    }
   ],
   "source": [
    "left = [1,2]\n",
    "df.plot(x='XGBoost Version', y='Time in Sec', kind='bar',width = 0.5)\n",
    "plt.xlabel('XGBoost Version'); plt.ylabel('Time in Sec'); plt.title('XGBoost Performance Comparison')\n",
    "plt.show()"
   ]
  },
  {
   "cell_type": "code",
   "execution_count": 10,
   "id": "geographic-packaging",
   "metadata": {},
   "outputs": [
    {
     "data": {
      "text/html": [
       "<div>\n",
       "<style scoped>\n",
       "    .dataframe tbody tr th:only-of-type {\n",
       "        vertical-align: middle;\n",
       "    }\n",
       "\n",
       "    .dataframe tbody tr th {\n",
       "        vertical-align: top;\n",
       "    }\n",
       "\n",
       "    .dataframe thead th {\n",
       "        text-align: right;\n",
       "    }\n",
       "</style>\n",
       "<table border=\"1\" class=\"dataframe\">\n",
       "  <thead>\n",
       "    <tr style=\"text-align: right;\">\n",
       "      <th></th>\n",
       "      <th>XGBoost Version</th>\n",
       "      <th>Time in Sec</th>\n",
       "    </tr>\n",
       "  </thead>\n",
       "  <tbody>\n",
       "    <tr>\n",
       "      <th>0</th>\n",
       "      <td>1.3.0-SNAPSHOT</td>\n",
       "      <td>27.773034</td>\n",
       "    </tr>\n",
       "    <tr>\n",
       "      <th>1</th>\n",
       "      <td>0.81</td>\n",
       "      <td>455.738008</td>\n",
       "    </tr>\n",
       "  </tbody>\n",
       "</table>\n",
       "</div>"
      ],
      "text/plain": [
       "  XGBoost Version  Time in Sec\n",
       "0  1.3.0-SNAPSHOT    27.773034\n",
       "1            0.81   455.738008"
      ]
     },
     "execution_count": 10,
     "metadata": {},
     "output_type": "execute_result"
    }
   ],
   "source": [
    "df"
   ]
  }
 ],
 "metadata": {
  "kernelspec": {
   "display_name": "XGBoost 0.81",
   "language": "python",
   "name": "xgb0.81"
  },
  "language_info": {
   "codemirror_mode": {
    "name": "ipython",
    "version": 3
   },
   "file_extension": ".py",
   "mimetype": "text/x-python",
   "name": "python",
   "nbconvert_exporter": "python",
   "pygments_lexer": "ipython3",
   "version": "3.7.6"
  }
 },
 "nbformat": 4,
 "nbformat_minor": 5
}
