{
 "cells": [
  {
   "cell_type": "markdown",
   "id": "f5c4abc0",
   "metadata": {},
   "source": [
    "# Intel® Extension for Scikit-learn NuSVR for Medical Charges dataset"
   ]
  },
  {
   "cell_type": "code",
   "execution_count": 1,
   "id": "27b99b44",
   "metadata": {},
   "outputs": [],
   "source": [
    "from sklearn.datasets import fetch_openml\n",
    "x, y = fetch_openml(name='medical_charges_nominal', return_X_y=True)\n",
    "cat_columns = x.select_dtypes(['category']).columns\n",
    "x[cat_columns] = x[cat_columns].apply(lambda x: x.cat.codes)"
   ]
  },
  {
   "cell_type": "code",
   "execution_count": 2,
   "id": "96e14dd7",
   "metadata": {},
   "outputs": [
    {
     "data": {
      "text/plain": [
       "((48919, 11), (114146, 11))"
      ]
     },
     "execution_count": 2,
     "metadata": {},
     "output_type": "execute_result"
    }
   ],
   "source": [
    "from sklearn.model_selection import train_test_split\n",
    "x_train, x_test, y_train, y_test = train_test_split(x, y, train_size=0.3, random_state=42)\n",
    "x_train.shape, x_test.shape"
   ]
  },
  {
   "cell_type": "markdown",
   "id": "0341cac9",
   "metadata": {},
   "source": [
    "Intel Extension for Scikit-learn (previously known as daal4py) contains drop-in replacement functionality for the stock scikit-learn package. You can take advantage of the performance optimizations of Intel Extension for Scikit-learn by adding just two lines of code before the usual scikit-learn imports:"
   ]
  },
  {
   "cell_type": "code",
   "execution_count": 3,
   "id": "244c5bc9",
   "metadata": {},
   "outputs": [
    {
     "name": "stderr",
     "output_type": "stream",
     "text": [
      "Intel(R) Extension for Scikit-learn* enabled (https://github.com/intel/scikit-learn-intelex)\n"
     ]
    }
   ],
   "source": [
    "from sklearnex import patch_sklearn\n",
    "patch_sklearn()"
   ]
  },
  {
   "cell_type": "markdown",
   "id": "6bb14ac8",
   "metadata": {},
   "source": [
    "Intel(R) Extension for Scikit-learn patching affects performance of specific Scikit-learn functionality. Refer to the [list of supported algorithms and parameters](https://intel.github.io/scikit-learn-intelex/algorithms.html) for details. In cases when unsupported parameters are used, the package fallbacks into original Scikit-learn. If the patching does not cover your scenarios, [submit an issue on GitHub](https://github.com/intel/scikit-learn-intelex/issues)."
   ]
  },
  {
   "cell_type": "code",
   "execution_count": 4,
   "id": "41c13dd3",
   "metadata": {},
   "outputs": [],
   "source": [
    "params = {\n",
    "    'nu': 0.4,\n",
    "    'C': y_train.mean(),\n",
    "    'degree': 2,\n",
    "    'kernel': 'poly',\n",
    "}"
   ]
  },
  {
   "cell_type": "markdown",
   "id": "693b4e26",
   "metadata": {},
   "source": [
    "Training of the NuSVR algorithm with Intel(R) Extension for Scikit-learn for Medical Charges dataset"
   ]
  },
  {
   "cell_type": "code",
   "execution_count": 5,
   "id": "e9b8f06b",
   "metadata": {},
   "outputs": [
    {
     "name": "stdout",
     "output_type": "stream",
     "text": [
      "CPU times: user 2min 39s, sys: 18.3 s, total: 2min 58s\n",
      "Wall time: 22.2 s\n"
     ]
    }
   ],
   "source": [
    "%%time\n",
    "from sklearn.svm import NuSVR\n",
    "nusvr = NuSVR(**params).fit(x_train, y_train)"
   ]
  },
  {
   "cell_type": "markdown",
   "id": "d01cdabc",
   "metadata": {},
   "source": [
    "Predict and get a result of the NuSVR algorithm with Intel(R) Extension for Scikit-learn"
   ]
  },
  {
   "cell_type": "code",
   "execution_count": 6,
   "id": "9ead2a44",
   "metadata": {
    "scrolled": true
   },
   "outputs": [
    {
     "name": "stdout",
     "output_type": "stream",
     "text": [
      "R2 score: 0.8636\n",
      "CPU times: user 12.3 s, sys: 53.7 ms, total: 12.4 s\n",
      "Wall time: 276 ms\n"
     ]
    }
   ],
   "source": [
    "%%time\n",
    "score = nusvr.score(x_test, y_test)\n",
    "print('R2 score: {:.4f}'.format(score))"
   ]
  },
  {
   "cell_type": "markdown",
   "id": "bd8e7b0b",
   "metadata": {},
   "source": [
    "In order to cancel optimizations, we use *unpatch_sklearn* and reimport the class NuSVR"
   ]
  },
  {
   "cell_type": "code",
   "execution_count": 7,
   "id": "5bb884d5",
   "metadata": {},
   "outputs": [],
   "source": [
    "from sklearnex import unpatch_sklearn\n",
    "unpatch_sklearn()"
   ]
  },
  {
   "cell_type": "markdown",
   "id": "8cfa0dba",
   "metadata": {},
   "source": [
    "Training of the NuSVR algorithm with original scikit-learn library for Medical Charges dataset"
   ]
  },
  {
   "cell_type": "code",
   "execution_count": 8,
   "id": "ae421d8e",
   "metadata": {},
   "outputs": [
    {
     "name": "stdout",
     "output_type": "stream",
     "text": [
      "CPU times: user 6min 4s, sys: 444 ms, total: 6min 4s\n",
      "Wall time: 6min 5s\n"
     ]
    }
   ],
   "source": [
    "%%time\n",
    "from sklearn.svm import NuSVR\n",
    "nusvr = NuSVR(**params).fit(x_train, y_train)"
   ]
  },
  {
   "cell_type": "markdown",
   "id": "23b8faa6",
   "metadata": {},
   "source": [
    "Predict and get a result of the NuSVR algorithm with original Scikit-learn"
   ]
  },
  {
   "cell_type": "code",
   "execution_count": 9,
   "id": "7644999d",
   "metadata": {},
   "outputs": [
    {
     "name": "stdout",
     "output_type": "stream",
     "text": [
      "R2 score: 0.8636\n",
      "CPU times: user 1min 8s, sys: 11.7 ms, total: 1min 8s\n",
      "Wall time: 1min 8s\n"
     ]
    }
   ],
   "source": [
    "%%time\n",
    "score = nusvr.score(x_test, y_test)\n",
    "print('R2 score: {:.4f}'.format(score))"
   ]
  },
  {
   "cell_type": "markdown",
   "id": "eb299d22",
   "metadata": {},
   "source": [
    "With scikit-learn-intelex patching you can:\n",
    "\n",
    "- Use your scikit-learn code for training and prediction with minimal changes (a couple of lines of code);\n",
    "- Fast execution training and prediction of scikit-learn models;\n",
    "- Get the same quality."
   ]
  }
 ],
 "metadata": {
  "kernelspec": {
   "display_name": "Python 3",
   "language": "python",
   "name": "python3"
  },
  "language_info": {
   "codemirror_mode": {
    "name": "ipython",
    "version": 3
   },
   "file_extension": ".py",
   "mimetype": "text/x-python",
   "name": "python",
   "nbconvert_exporter": "python",
   "pygments_lexer": "ipython3",
   "version": "3.8.10"
  }
 },
 "nbformat": 4,
 "nbformat_minor": 5
}