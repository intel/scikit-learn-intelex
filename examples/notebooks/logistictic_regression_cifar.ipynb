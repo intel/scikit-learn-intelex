{
 "cells": [
  {
   "cell_type": "markdown",
   "id": "f5c4abc0",
   "metadata": {},
   "source": [
    "# Logistic Regression for Cifar dataset"
   ]
  },
  {
   "cell_type": "code",
   "execution_count": 1,
   "id": "23512089",
   "metadata": {},
   "outputs": [],
   "source": [
    "from sklearn import metrics\n",
    "from sklearn.model_selection import train_test_split\n",
    "import warnings\n",
    "warnings.filterwarnings('ignore')"
   ]
  },
  {
   "cell_type": "code",
   "execution_count": 2,
   "id": "27b99b44",
   "metadata": {},
   "outputs": [],
   "source": [
    "from sklearn.datasets import fetch_openml\n",
    "x, y = fetch_openml(name='CIFAR-100', return_X_y=True)"
   ]
  },
  {
   "cell_type": "code",
   "execution_count": 3,
   "id": "96e14dd7",
   "metadata": {},
   "outputs": [],
   "source": [
    "x_train, x_test, y_train, y_test = train_test_split(x, y, test_size=0.1, random_state=43)"
   ]
  },
  {
   "cell_type": "code",
   "execution_count": 4,
   "id": "d7e48a4e",
   "metadata": {},
   "outputs": [
    {
     "data": {
      "text/plain": [
       "((54000, 3072), (6000, 3072), (54000,))"
      ]
     },
     "execution_count": 4,
     "metadata": {},
     "output_type": "execute_result"
    }
   ],
   "source": [
    "x_train.shape, x_test.shape, y_train.shape"
   ]
  },
  {
   "cell_type": "markdown",
   "id": "0341cac9",
   "metadata": {},
   "source": [
    "Intel Extension for Scikit-learn (previously known as daal4py) contains drop-in replacement functionality for the stock scikit-learn package. You can take advantage of the performance optimizations of Intel Extension for Scikit-learn by adding just two lines of code before the usual scikit-learn imports:"
   ]
  },
  {
   "cell_type": "code",
   "execution_count": 14,
   "id": "244c5bc9",
   "metadata": {},
   "outputs": [
    {
     "name": "stderr",
     "output_type": "stream",
     "text": [
      "Intel(R) Extension for Scikit-learn* enabled (https://github.com/intel/scikit-learn-intelex)\n"
     ]
    }
   ],
   "source": [
    "from sklearnex import patch_sklearn\n",
    "patch_sklearn()"
   ]
  },
  {
   "cell_type": "markdown",
   "id": "6bb14ac8",
   "metadata": {},
   "source": [
    "Intel Extension for Scikit-learn patching affects performance of specific Scikit-learn functionality. Support list of algorithms and parameters see [here](https://intel.github.io/scikit-learn-intelex/algorithms.html). In cases when unsupported parameters are used, the package fallbacks into original Scikit-learn. If the patching does not cover your scenarios, [submit an issue on GitHub](https://github.com/intel/scikit-learn-intelex/issues)."
   ]
  },
  {
   "cell_type": "code",
   "execution_count": 18,
   "id": "41c13dd3",
   "metadata": {},
   "outputs": [],
   "source": [
    "params = {\n",
    "    'C': 0.1,\n",
    "    'solver': 'lbfgs',\n",
    "    'multi_class': 'multinomial',\n",
    "    'n_jobs': -1,\n",
    "}"
   ]
  },
  {
   "cell_type": "markdown",
   "id": "693b4e26",
   "metadata": {},
   "source": [
    "Training of the Logistic Regression algorithm with Intel(R) Extension for Scikit-learn for CIFAR dataset"
   ]
  },
  {
   "cell_type": "code",
   "execution_count": 19,
   "id": "e9b8f06b",
   "metadata": {},
   "outputs": [
    {
     "name": "stdout",
     "output_type": "stream",
     "text": [
      "CPU times: user 12min 34s, sys: 4min 47s, total: 17min 21s\n",
      "Wall time: 29.1 s\n"
     ]
    }
   ],
   "source": [
    "%%time\n",
    "from sklearn.linear_model import LogisticRegression\n",
    "classifier = LogisticRegression(**params).fit(x_train, y_train)"
   ]
  },
  {
   "cell_type": "markdown",
   "id": "d01cdabc",
   "metadata": {},
   "source": [
    "Predict probability and get a result of the Logistic Regression algorithm with Intel(R) Extension for Scikit-learn"
   ]
  },
  {
   "cell_type": "code",
   "execution_count": 21,
   "id": "9ead2a44",
   "metadata": {},
   "outputs": [
    {
     "name": "stdout",
     "output_type": "stream",
     "text": [
      "CPU times: user 1.89 s, sys: 46 µs, total: 1.89 s\n",
      "Wall time: 105 ms\n"
     ]
    },
    {
     "data": {
      "text/plain": [
       "3.707353080141952"
      ]
     },
     "execution_count": 21,
     "metadata": {},
     "output_type": "execute_result"
    }
   ],
   "source": [
    "%%time\n",
    "y_predict = classifier.predict_proba(x_test)\n",
    "log_loss_metric = metrics.log_loss(y_test, y_predict)\n",
    "log_loss_metric"
   ]
  },
  {
   "cell_type": "markdown",
   "id": "bd8e7b0b",
   "metadata": {},
   "source": [
    "In order to cancel optimizations, we use *unpatch_sklearn* and reimport the class LogisticRegression."
   ]
  },
  {
   "cell_type": "code",
   "execution_count": 24,
   "id": "5bb884d5",
   "metadata": {},
   "outputs": [],
   "source": [
    "from sklearnex import unpatch_sklearn\n",
    "unpatch_sklearn()"
   ]
  },
  {
   "cell_type": "markdown",
   "id": "8cfa0dba",
   "metadata": {},
   "source": [
    "Training of the Logistic Regression algorithm with original scikit-learn library for CIFAR dataset"
   ]
  },
  {
   "cell_type": "code",
   "execution_count": 25,
   "id": "ae421d8e",
   "metadata": {},
   "outputs": [
    {
     "name": "stdout",
     "output_type": "stream",
     "text": [
      "CPU times: user 970 ms, sys: 2.52 s, total: 3.49 s\n",
      "Wall time: 4min 55s\n"
     ]
    }
   ],
   "source": [
    "%%time\n",
    "from sklearn.linear_model import LogisticRegression\n",
    "classifier = LogisticRegression(**params).fit(x_train, y_train)"
   ]
  },
  {
   "cell_type": "code",
   "execution_count": 26,
   "id": "7644999d",
   "metadata": {},
   "outputs": [
    {
     "name": "stdout",
     "output_type": "stream",
     "text": [
      "CPU times: user 1.73 s, sys: 3.78 s, total: 5.51 s\n",
      "Wall time: 156 ms\n"
     ]
    },
    {
     "data": {
      "text/plain": [
       "3.7140869758411936"
      ]
     },
     "execution_count": 26,
     "metadata": {},
     "output_type": "execute_result"
    }
   ],
   "source": [
    "%%time\n",
    "y_predict = classifier.predict_proba(x_test)\n",
    "log_loss_metric = metrics.log_loss(y_test, y_predict)\n",
    "log_loss_metric"
   ]
  },
  {
   "cell_type": "markdown",
   "id": "eb299d22",
   "metadata": {},
   "source": [
    "With scikit-learn-intelex patching you can:\n",
    "\n",
    "- Use your scikit-learn code for training and prediction with minimal changes (a couple of lines of code);\n",
    "- Fast execution training and prediction of scikit-learn models;\n",
    "- Get the same quality."
   ]
  }
 ],
 "metadata": {
  "kernelspec": {
   "display_name": "Python 3",
   "language": "python",
   "name": "python3"
  },
  "language_info": {
   "codemirror_mode": {
    "name": "ipython",
    "version": 3
   },
   "file_extension": ".py",
   "mimetype": "text/x-python",
   "name": "python",
   "nbconvert_exporter": "python",
   "pygments_lexer": "ipython3",
   "version": "3.8.10"
  }
 },
 "nbformat": 4,
 "nbformat_minor": 5
}
