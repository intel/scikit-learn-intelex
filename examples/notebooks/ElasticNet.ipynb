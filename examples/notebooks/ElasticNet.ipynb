{
 "cells": [
  {
   "cell_type": "markdown",
   "id": "3768ec43",
   "metadata": {},
   "source": [
    "# Intel® Extension for Scikit-learn ElasticNet for Airlines DepDelay dataset"
   ]
  },
  {
   "cell_type": "code",
   "execution_count": 1,
   "id": "b1b922d1",
   "metadata": {},
   "outputs": [],
   "source": [
    "from timeit import default_timer as timer\n",
    "from sklearn import metrics\n",
    "from sklearn.model_selection import train_test_split\n",
    "import warnings\n",
    "from sklearn.datasets import fetch_openml\n",
    "from sklearn.preprocessing import LabelEncoder\n",
    "warnings.filterwarnings('ignore')"
   ]
  },
  {
   "cell_type": "markdown",
   "id": "09913018",
   "metadata": {},
   "source": [
    "### Download the data"
   ]
  },
  {
   "cell_type": "code",
   "execution_count": 2,
   "id": "00c2277b",
   "metadata": {},
   "outputs": [],
   "source": [
    "x, y = fetch_openml(name='Airlines_DepDelay_10M', return_X_y=True)\n",
    "for col in ['UniqueCarrier', 'Origin', 'Dest']:\n",
    "    le = LabelEncoder().fit(x[col])\n",
    "    x[col] = le.transform(x[col])"
   ]
  },
  {
   "cell_type": "code",
   "execution_count": 3,
   "id": "0d332789",
   "metadata": {},
   "outputs": [
    {
     "data": {
      "text/plain": [
       "((9000000, 9), (1000000, 9), (9000000,), (1000000,))"
      ]
     },
     "execution_count": 3,
     "metadata": {},
     "output_type": "execute_result"
    }
   ],
   "source": [
    "x_train, x_test, y_train, y_test = train_test_split(x, y, test_size=0.1, random_state=0)\n",
    "x_train.shape, x_test.shape, y_train.shape, y_test.shape"
   ]
  },
  {
   "cell_type": "markdown",
   "id": "246f819f",
   "metadata": {},
   "source": [
    "### Normalize the data"
   ]
  },
  {
   "cell_type": "code",
   "execution_count": 4,
   "id": "454a341c",
   "metadata": {},
   "outputs": [],
   "source": [
    "from sklearn.preprocessing import MinMaxScaler, StandardScaler\n",
    "scaler_x = MinMaxScaler()\n",
    "scaler_y = StandardScaler()"
   ]
  },
  {
   "cell_type": "code",
   "execution_count": 5,
   "id": "df400504",
   "metadata": {},
   "outputs": [],
   "source": [
    "scaler_x.fit(x_train)\n",
    "x_train = scaler_x.transform(x_train)\n",
    "x_test = scaler_x.transform(x_test)\n",
    "\n",
    "scaler_y.fit(y_train.to_numpy().reshape(-1, 1))\n",
    "y_train = scaler_y.transform(y_train.to_numpy().reshape(-1, 1)).ravel()\n",
    "y_test = scaler_y.transform(y_test.to_numpy().reshape(-1, 1)).ravel()"
   ]
  },
  {
   "cell_type": "markdown",
   "id": "fe1d4fac",
   "metadata": {},
   "source": [
    "### Patch original scikit-learn with Intel® Extension for Scikit-learn\n",
    "Intel® Extension for Scikit-learn (previously known as daal4py) contains drop-in replacement functionality for the stock scikit-learn package. You can take advantage of the performance optimizations of Intel Extension for Scikit-learn by adding just two lines of code before the usual scikit-learn imports:"
   ]
  },
  {
   "cell_type": "code",
   "execution_count": 6,
   "id": "ef6938df",
   "metadata": {},
   "outputs": [
    {
     "name": "stderr",
     "output_type": "stream",
     "text": [
      "Intel(R) Extension for Scikit-learn* enabled (https://github.com/intel/scikit-learn-intelex)\n"
     ]
    }
   ],
   "source": [
    "from sklearnex import patch_sklearn\n",
    "patch_sklearn()"
   ]
  },
  {
   "cell_type": "markdown",
   "id": "20c5ab48",
   "metadata": {},
   "source": [
    "Intel® Extension for Scikit-learn patching affects performance of specific Scikit-learn functionality. Refer to the [list of supported algorithms and parameters](https://intel.github.io/scikit-learn-intelex/algorithms.html) for details. In cases when unsupported parameters are used, the package fallbacks into original Scikit-learn. If the patching does not cover your scenarios, [submit an issue on GitHub](https://github.com/intel/scikit-learn-intelex/issues)."
   ]
  },
  {
   "cell_type": "markdown",
   "id": "f80273e7",
   "metadata": {},
   "source": [
    "Training of the ElasticNet algorithm with Intel® Extension for Scikit-learn for Airlines DepDelay dataset"
   ]
  },
  {
   "cell_type": "code",
   "execution_count": 7,
   "id": "7c888f2e",
   "metadata": {},
   "outputs": [],
   "source": [
    "from sklearn.linear_model import ElasticNet\n",
    "params = {\n",
    "    \"alpha\": 0.1,    \n",
    "    \"fit_intercept\": False,\n",
    "    \"l1_ratio\": 0.3,\n",
    "    \"random_state\": 0,\n",
    "    \"copy_X\": False,\n",
    "}"
   ]
  },
  {
   "cell_type": "code",
   "execution_count": 8,
   "id": "a4dd1c7e",
   "metadata": {},
   "outputs": [
    {
     "data": {
      "text/plain": [
       "'Intel(R) extension for Scikit-learn time: 0.06 s'"
      ]
     },
     "execution_count": 8,
     "metadata": {},
     "output_type": "execute_result"
    }
   ],
   "source": [
    "start = timer()\n",
    "model = ElasticNet(**params).fit(x_train, y_train)\n",
    "f\"Intel(R) extension for Scikit-learn time: {(timer() - start):.2f} s\""
   ]
  },
  {
   "cell_type": "markdown",
   "id": "f10b51fc",
   "metadata": {},
   "source": [
    "Predict and get a result of the ElasticNet algorithm with Intel® Extension for Scikit-learn"
   ]
  },
  {
   "cell_type": "code",
   "execution_count": 9,
   "id": "d4295a26",
   "metadata": {},
   "outputs": [
    {
     "data": {
      "text/plain": [
       "1.018687043426095"
      ]
     },
     "execution_count": 9,
     "metadata": {},
     "output_type": "execute_result"
    }
   ],
   "source": [
    "y_predict = model.predict(x_test)\n",
    "mse_metric_p = metrics.mean_squared_error(y_test, y_predict)\n",
    "mse_metric_p"
   ]
  },
  {
   "cell_type": "markdown",
   "id": "cbe6db0d",
   "metadata": {},
   "source": [
    "### Train the same algorithm with original scikit-learn\n",
    "In order to cancel optimizations, we use *unpatch_sklearn* and reimport the class ElasticNet"
   ]
  },
  {
   "cell_type": "code",
   "execution_count": 10,
   "id": "6f64ba97",
   "metadata": {},
   "outputs": [],
   "source": [
    "from sklearnex import unpatch_sklearn\n",
    "unpatch_sklearn()"
   ]
  },
  {
   "cell_type": "markdown",
   "id": "f242c6da",
   "metadata": {},
   "source": [
    "Training of the ElasticNet algorithm with original scikit-learn library for Airlines DepDelay dataset"
   ]
  },
  {
   "cell_type": "code",
   "execution_count": 11,
   "id": "6b0d46bf",
   "metadata": {},
   "outputs": [],
   "source": [
    "from sklearn.linear_model import ElasticNet"
   ]
  },
  {
   "cell_type": "code",
   "execution_count": 12,
   "id": "67243849",
   "metadata": {},
   "outputs": [
    {
     "data": {
      "text/plain": [
       "'Original Scikit-learn time: 0.48 s'"
      ]
     },
     "execution_count": 12,
     "metadata": {},
     "output_type": "execute_result"
    }
   ],
   "source": [
    "start = timer()\n",
    "model = ElasticNet(**params).fit(x_train, y_train)\n",
    "f\"Original Scikit-learn time: {(timer() - start):.2f} s\""
   ]
  },
  {
   "cell_type": "markdown",
   "id": "c85a125c",
   "metadata": {},
   "source": [
    "Predict and get a result of the ElasticNet algorithm with original Scikit-learn"
   ]
  },
  {
   "cell_type": "code",
   "execution_count": 13,
   "id": "cd9e726c",
   "metadata": {},
   "outputs": [
    {
     "data": {
      "text/plain": [
       "1.018687043426095"
      ]
     },
     "execution_count": 13,
     "metadata": {},
     "output_type": "execute_result"
    }
   ],
   "source": [
    "y_predict = model.predict(x_test)\n",
    "mse_metric_o = metrics.mean_squared_error(y_test, y_predict)\n",
    "mse_metric_o"
   ]
  },
  {
   "cell_type": "markdown",
   "id": "32217465",
   "metadata": {},
   "source": [
    "### Compare MSE metric of patched scikit-learn and original"
   ]
  },
  {
   "cell_type": "code",
   "execution_count": 14,
   "id": "13860b76",
   "metadata": {},
   "outputs": [
    {
     "name": "stdout",
     "output_type": "stream",
     "text": [
      "mse metric of unpatched scikit-learn: 1.018687043426095\n",
      "mse metric of patched scikit-learn: 1.018687043426095\n",
      "attitude: 1.0\n"
     ]
    }
   ],
   "source": [
    "print(f\"mse metric of unpatched scikit-learn: {mse_metric_o}\")\n",
    "print(f\"mse metric of patched scikit-learn: {mse_metric_p}\")\n",
    "print(f\"attitude: {mse_metric_p/mse_metric_o}\")"
   ]
  },
  {
   "cell_type": "markdown",
   "id": "98484c81",
   "metadata": {},
   "source": [
    "### With scikit-learn-intelex patching you can:\n",
    "\n",
    "- Use your scikit-learn code for training and prediction with minimal changes (a couple of lines of code);\n",
    "- Fast execution training and prediction of scikit-learn models;\n",
    "- Get the same quality;\n",
    "- Get speedup more than **12** times."
   ]
  }
 ],
 "metadata": {
  "kernelspec": {
   "display_name": "Python 3 (ipykernel)",
   "language": "python",
   "name": "python3"
  },
  "language_info": {
   "codemirror_mode": {
    "name": "ipython",
    "version": 3
   },
   "file_extension": ".py",
   "mimetype": "text/x-python",
   "name": "python",
   "nbconvert_exporter": "python",
   "pygments_lexer": "ipython3",
   "version": "3.8.11"
  }
 },
 "nbformat": 4,
 "nbformat_minor": 5
}
