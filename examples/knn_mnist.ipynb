{
 "cells": [
  {
   "cell_type": "markdown",
   "id": "f5c4abc0",
   "metadata": {},
   "source": [
    "# KNN for MNIST dataset"
   ]
  },
  {
   "cell_type": "code",
   "execution_count": 1,
   "id": "23512089",
   "metadata": {},
   "outputs": [],
   "source": [
    "from sklearn import metrics\n",
    "from sklearn.model_selection import train_test_split"
   ]
  },
  {
   "cell_type": "code",
   "execution_count": 2,
   "id": "27b99b44",
   "metadata": {},
   "outputs": [],
   "source": [
    "from sklearn.datasets import fetch_openml\n",
    "x, y = fetch_openml(name='mnist_784', return_X_y=True)"
   ]
  },
  {
   "cell_type": "code",
   "execution_count": 3,
   "id": "96e14dd7",
   "metadata": {},
   "outputs": [],
   "source": [
    "x_train, x_test, y_train, y_test = train_test_split(x, y, test_size=0.4, shuffle=False)"
   ]
  },
  {
   "cell_type": "markdown",
   "id": "0341cac9",
   "metadata": {},
   "source": [
    "Intel Extension for Scikit-learn (previously known as daal4py) contains drop-in replacement functionality for the stock scikit-learn package. You can take advantage of the performance optimizations of Intel Extension for Scikit-learn by adding just two lines of code before the usual scikit-learn imports:"
   ]
  },
  {
   "cell_type": "code",
   "execution_count": 4,
   "id": "244c5bc9",
   "metadata": {},
   "outputs": [
    {
     "name": "stderr",
     "output_type": "stream",
     "text": [
      "Intel(R) Extension for Scikit-learn* enabled (https://github.com/intel/scikit-learn-intelex)\n"
     ]
    }
   ],
   "source": [
    "from sklearnex import patch_sklearn\n",
    "patch_sklearn()"
   ]
  },
  {
   "cell_type": "markdown",
   "id": "6bb14ac8",
   "metadata": {},
   "source": [
    "Choose parameter for alorithm, full list for Intel Extension for Scikit-learn can see [here](https://intel.github.io/scikit-learn-intelex/algorithms.html). If some parameters are not available, the original implementation of scikit-learn will be callback."
   ]
  },
  {
   "cell_type": "code",
   "execution_count": 6,
   "id": "41c13dd3",
   "metadata": {},
   "outputs": [],
   "source": [
    "params = {\n",
    "    'n_neighbors': 8,\n",
    "    'algorithm': 'brute',\n",
    "}"
   ]
  },
  {
   "cell_type": "markdown",
   "id": "693b4e26",
   "metadata": {},
   "source": [
    "Train of the KNN classifier algorithm with Intel(R) Extension for Scikit-learn"
   ]
  },
  {
   "cell_type": "code",
   "execution_count": 7,
   "id": "e9b8f06b",
   "metadata": {},
   "outputs": [
    {
     "name": "stdout",
     "output_type": "stream",
     "text": [
      "CPU times: user 341 ms, sys: 293 ms, total: 633 ms\n",
      "Wall time: 371 ms\n"
     ]
    }
   ],
   "source": [
    "%%time\n",
    "from sklearn.neighbors import KNeighborsClassifier\n",
    "classifier = KNeighborsClassifier(**params).fit(x_train, y_train)"
   ]
  },
  {
   "cell_type": "markdown",
   "id": "d01cdabc",
   "metadata": {},
   "source": [
    "Predict and get a result of the SVC algorithm with Intel(R) Extension for Scikit-learn"
   ]
  },
  {
   "cell_type": "code",
   "execution_count": 8,
   "id": "9ead2a44",
   "metadata": {},
   "outputs": [
    {
     "name": "stdout",
     "output_type": "stream",
     "text": [
      "Classification report for SVC:\n",
      "              precision    recall  f1-score   support\n",
      "\n",
      "           0       0.97      0.99      0.98      2760\n",
      "           1       0.94      1.00      0.97      3078\n",
      "           2       0.98      0.95      0.97      2843\n",
      "           3       0.96      0.97      0.96      2873\n",
      "           4       0.98      0.96      0.97      2725\n",
      "           5       0.96      0.96      0.96      2529\n",
      "           6       0.98      0.99      0.98      2696\n",
      "           7       0.96      0.96      0.96      2963\n",
      "           8       0.99      0.92      0.95      2785\n",
      "           9       0.95      0.95      0.95      2748\n",
      "\n",
      "    accuracy                           0.97     28000\n",
      "   macro avg       0.97      0.96      0.97     28000\n",
      "weighted avg       0.97      0.97      0.97     28000\n",
      "\n",
      "\n",
      "CPU times: user 36.2 s, sys: 395 ms, total: 36.6 s\n",
      "Wall time: 1.91 s\n"
     ]
    }
   ],
   "source": [
    "%%time\n",
    "predicted = classifier.predict(x_test)\n",
    "report = metrics.classification_report(y_test, predicted)\n",
    "print(f\"Classification report for KNN:\\n{report}\\n\")"
   ]
  },
  {
   "cell_type": "markdown",
   "id": "bd8e7b0b",
   "metadata": {},
   "source": [
    "In order to cancel optimizations, we use *unpatch_sklearn* and reimport the class SVC."
   ]
  },
  {
   "cell_type": "code",
   "execution_count": 9,
   "id": "5bb884d5",
   "metadata": {},
   "outputs": [],
   "source": [
    "from sklearnex import unpatch_sklearn\n",
    "unpatch_sklearn()"
   ]
  },
  {
   "cell_type": "code",
   "execution_count": 10,
   "id": "ae421d8e",
   "metadata": {},
   "outputs": [
    {
     "name": "stdout",
     "output_type": "stream",
     "text": [
      "CPU times: user 91 ms, sys: 1.18 ms, total: 92.2 ms\n",
      "Wall time: 91.6 ms\n"
     ]
    }
   ],
   "source": [
    "%%time\n",
    "from sklearn.neighbors import KNeighborsClassifier\n",
    "classifier = KNeighborsClassifier(**params).fit(x_train, y_train)"
   ]
  },
  {
   "cell_type": "code",
   "execution_count": 11,
   "id": "7644999d",
   "metadata": {},
   "outputs": [
    {
     "name": "stdout",
     "output_type": "stream",
     "text": [
      "Classification report for SVC:\n",
      "              precision    recall  f1-score   support\n",
      "\n",
      "           0       0.97      0.99      0.98      2760\n",
      "           1       0.94      1.00      0.97      3078\n",
      "           2       0.98      0.95      0.97      2843\n",
      "           3       0.96      0.97      0.96      2873\n",
      "           4       0.98      0.96      0.97      2725\n",
      "           5       0.96      0.96      0.96      2529\n",
      "           6       0.98      0.99      0.98      2696\n",
      "           7       0.96      0.96      0.96      2963\n",
      "           8       0.99      0.92      0.95      2785\n",
      "           9       0.95      0.95      0.95      2748\n",
      "\n",
      "    accuracy                           0.97     28000\n",
      "   macro avg       0.97      0.96      0.97     28000\n",
      "weighted avg       0.97      0.97      0.97     28000\n",
      "\n",
      "\n",
      "CPU times: user 1min 24s, sys: 2min 58s, total: 4min 23s\n",
      "Wall time: 29.1 s\n"
     ]
    }
   ],
   "source": [
    "%%time\n",
    "predicted = classifier.predict(x_test)\n",
    "report = metrics.classification_report(y_test, predicted)\n",
    "print(f\"Classification report for SVC:\\n{report}\\n\")"
   ]
  },
  {
   "cell_type": "markdown",
   "id": "eb299d22",
   "metadata": {},
   "source": [
    "With scikit-learn-intelex patching you can:\n",
    "\n",
    "- Use your scikit-learn code for training and inference without modification.\n",
    "- Fast execution train and predict of scikit-learn models.\n",
    "- Get the same quality of predictions."
   ]
  }
 ],
 "metadata": {
  "kernelspec": {
   "display_name": "Python 3",
   "language": "python",
   "name": "python3"
  },
  "language_info": {
   "codemirror_mode": {
    "name": "ipython",
    "version": 3
   },
   "file_extension": ".py",
   "mimetype": "text/x-python",
   "name": "python",
   "nbconvert_exporter": "python",
   "pygments_lexer": "ipython3",
   "version": "3.8.10"
  }
 },
 "nbformat": 4,
 "nbformat_minor": 5
}
