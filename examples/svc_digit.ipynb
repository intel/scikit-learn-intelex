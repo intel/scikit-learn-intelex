{
 "cells": [
  {
   "cell_type": "code",
   "execution_count": 1,
   "id": "23512089",
   "metadata": {},
   "outputs": [],
   "source": [
    "from sklearn import metrics\n",
    "from sklearn.model_selection import train_test_split"
   ]
  },
  {
   "cell_type": "code",
   "execution_count": 2,
   "id": "27b99b44",
   "metadata": {},
   "outputs": [],
   "source": [
    "from sklearn.datasets import fetch_openml\n",
    "x, y = fetch_openml(name='mnist_784', return_X_y=True)"
   ]
  },
  {
   "cell_type": "code",
   "execution_count": 3,
   "id": "96e14dd7",
   "metadata": {},
   "outputs": [],
   "source": [
    "x_train, x_test, y_train, y_test = train_test_split(x, y, test_size=0.4, shuffle=False)"
   ]
  },
  {
   "cell_type": "markdown",
   "id": "0341cac9",
   "metadata": {},
   "source": [
    "Intel Extension for Scikit-learn (previously known as daal4py) contains drop-in replacement functionality for the stock scikit-learn package. You can take advantage of the performance optimizations of Intel Extension for Scikit-learn by adding just two lines of code before the usual scikit-learn imports:"
   ]
  },
  {
   "cell_type": "code",
   "execution_count": 4,
   "id": "244c5bc9",
   "metadata": {},
   "outputs": [
    {
     "name": "stderr",
     "output_type": "stream",
     "text": [
      "Intel(R) Extension for Scikit-learn* enabled (https://github.com/intel/scikit-learn-intelex)\n"
     ]
    }
   ],
   "source": [
    "from sklearnex import patch_sklearn\n",
    "patch_sklearn()"
   ]
  },
  {
   "cell_type": "markdown",
   "id": "b9d9a847",
   "metadata": {},
   "source": [
    "Choose parameter for alorithm, full list for Intel Extension for Scikit-learn can see [here](https://intel.github.io/scikit-learn-intelex/algorithms.html). If some parameters are not available, the original implementation of scikit-learn will be callback."
   ]
  },
  {
   "cell_type": "code",
   "execution_count": 5,
   "id": "5030e182",
   "metadata": {},
   "outputs": [],
   "source": [
    "params = {\n",
    "    'C': 0.1,\n",
    "    'kernel': 'rbf',\n",
    "    'gamma': 'scale'\n",
    "}"
   ]
  },
  {
   "cell_type": "code",
   "execution_count": 6,
   "id": "e9b8f06b",
   "metadata": {},
   "outputs": [
    {
     "name": "stdout",
     "output_type": "stream",
     "text": [
      "CPU times: user 3 µs, sys: 1 µs, total: 4 µs\n",
      "Wall time: 9.54 µs\n"
     ]
    }
   ],
   "source": [
    "%%time\n",
    "from sklearn.svm import SVC\n",
    "classifier = SVC(**params).fit(x_train, y_train)"
   ]
  },
  {
   "cell_type": "code",
   "execution_count": 7,
   "id": "9ead2a44",
   "metadata": {},
   "outputs": [
    {
     "name": "stdout",
     "output_type": "stream",
     "text": [
      "CPU times: user 8 µs, sys: 1e+03 ns, total: 9 µs\n",
      "Wall time: 18.6 µs\n",
      "Classification report for SVC:\n",
      "              precision    recall  f1-score   support\n",
      "\n",
      "           0       0.97      0.98      0.98      2760\n",
      "           1       0.97      0.99      0.98      3078\n",
      "           2       0.95      0.95      0.95      2843\n",
      "           3       0.95      0.94      0.94      2873\n",
      "           4       0.95      0.96      0.95      2725\n",
      "           5       0.94      0.94      0.94      2529\n",
      "           6       0.96      0.98      0.97      2696\n",
      "           7       0.96      0.94      0.95      2963\n",
      "           8       0.95      0.93      0.94      2785\n",
      "           9       0.93      0.93      0.93      2748\n",
      "\n",
      "    accuracy                           0.95     28000\n",
      "   macro avg       0.95      0.95      0.95     28000\n",
      "weighted avg       0.95      0.95      0.95     28000\n",
      "\n",
      "\n"
     ]
    }
   ],
   "source": [
    "%%time\n",
    "predicted = classifier.predict(x_test)\n",
    "report = metrics.classification_report(y_test, predicted)\n",
    "print(f\"Classification report for SVC:\\n{report}\\n\")"
   ]
  },
  {
   "cell_type": "code",
   "execution_count": 8,
   "id": "5bb884d5",
   "metadata": {},
   "outputs": [],
   "source": [
    "from sklearnex import unpatch_sklearn\n",
    "unpatch_sklearn()"
   ]
  },
  {
   "cell_type": "code",
   "execution_count": 9,
   "id": "ae421d8e",
   "metadata": {},
   "outputs": [
    {
     "name": "stdout",
     "output_type": "stream",
     "text": [
      "CPU times: user 9 µs, sys: 1 µs, total: 10 µs\n",
      "Wall time: 18.8 µs\n"
     ]
    }
   ],
   "source": [
    "%%time\n",
    "from sklearn.svm import SVC\n",
    "classifier = SVC(**params).fit(x_train, y_train)"
   ]
  },
  {
   "cell_type": "code",
   "execution_count": 10,
   "id": "7644999d",
   "metadata": {},
   "outputs": [
    {
     "name": "stdout",
     "output_type": "stream",
     "text": [
      "CPU times: user 9 µs, sys: 1e+03 ns, total: 10 µs\n",
      "Wall time: 21.2 µs\n",
      "Classification report for SVC:\n",
      "              precision    recall  f1-score   support\n",
      "\n",
      "           0       0.97      0.98      0.98      2760\n",
      "           1       0.97      0.99      0.98      3078\n",
      "           2       0.95      0.95      0.95      2843\n",
      "           3       0.95      0.94      0.94      2873\n",
      "           4       0.95      0.96      0.95      2725\n",
      "           5       0.94      0.94      0.94      2529\n",
      "           6       0.96      0.98      0.97      2696\n",
      "           7       0.96      0.94      0.95      2963\n",
      "           8       0.95      0.93      0.94      2785\n",
      "           9       0.93      0.93      0.93      2748\n",
      "\n",
      "    accuracy                           0.95     28000\n",
      "   macro avg       0.95      0.95      0.95     28000\n",
      "weighted avg       0.95      0.95      0.95     28000\n",
      "\n",
      "\n"
     ]
    }
   ],
   "source": [
    "%%time\n",
    "predicted = classifier.predict(x_test)\n",
    "report = metrics.classification_report(y_test, predicted)\n",
    "print(f\"Classification report for SVC:\\n{report}\\n\")"
   ]
  }
 ],
 "metadata": {
  "kernelspec": {
   "display_name": "Python 3",
   "language": "python",
   "name": "python3"
  },
  "language_info": {
   "codemirror_mode": {
    "name": "ipython",
    "version": 3
   },
   "file_extension": ".py",
   "mimetype": "text/x-python",
   "name": "python",
   "nbconvert_exporter": "python",
   "pygments_lexer": "ipython3",
   "version": "3.8.10"
  }
 },
 "nbformat": 4,
 "nbformat_minor": 5
}
